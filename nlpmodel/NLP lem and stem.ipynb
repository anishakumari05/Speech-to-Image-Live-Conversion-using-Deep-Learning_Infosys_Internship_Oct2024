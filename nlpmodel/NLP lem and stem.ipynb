{
 "cells": [
  {
   "cell_type": "code",
   "execution_count": 1,
   "id": "b30b1c3d-8d36-4945-a27f-2f2e9bbac19c",
   "metadata": {},
   "outputs": [],
   "source": [
    "import speech_recognition as sr\n",
    "import nltk\n",
    "from nltk.stem import PorterStemmer\n",
    "from nltk.stem import WordNetLemmatizer"
   ]
  },
  {
   "cell_type": "code",
   "execution_count": 2,
   "id": "da366d23-b5dc-41d7-aba6-e477c2031f02",
   "metadata": {},
   "outputs": [
    {
     "name": "stderr",
     "output_type": "stream",
     "text": [
      "[nltk_data] Downloading package punkt_tab to\n",
      "[nltk_data]     C:\\Users\\HP\\AppData\\Roaming\\nltk_data...\n",
      "[nltk_data]   Unzipping tokenizers\\punkt_tab.zip.\n",
      "[nltk_data] Downloading package wordnet to\n",
      "[nltk_data]     C:\\Users\\HP\\AppData\\Roaming\\nltk_data...\n",
      "[nltk_data]   Package wordnet is already up-to-date!\n"
     ]
    },
    {
     "data": {
      "text/plain": [
       "True"
      ]
     },
     "execution_count": 2,
     "metadata": {},
     "output_type": "execute_result"
    }
   ],
   "source": [
    "nltk.download('punkt_tab')\n",
    "nltk.download('wordnet')"
   ]
  },
  {
   "cell_type": "code",
   "execution_count": 3,
   "id": "c31d0c32-96c9-47e2-b2a2-7cf163fef595",
   "metadata": {},
   "outputs": [],
   "source": [
    "stemmer = PorterStemmer()\n",
    "lemmatizer = WordNetLemmatizer()"
   ]
  },
  {
   "cell_type": "code",
   "execution_count": 4,
   "id": "29d972e7-110f-4561-aeff-33602f0f8064",
   "metadata": {},
   "outputs": [],
   "source": [
    "def transcribe_audio(file_path):\n",
    "    recognizer = sr.Recognizer()\n",
    "    # Load the audio file\n",
    "    with sr.AudioFile(file_path) as source:\n",
    "        audio_data = recognizer.record(source)\n",
    "        # Transcribe audio to text\n",
    "        try:\n",
    "            transcription = recognizer.recognize_google(audio_data)\n",
    "            return transcription\n",
    "        except sr.UnknownValueError:\n",
    "            return \"Could not understand audio\"\n",
    "        except sr.RequestError:\n",
    "            return \"Error with transcription service\" "
   ]
  },
  {
   "cell_type": "code",
   "execution_count": 5,
   "id": "039ba33f-512e-4a0d-bf57-e74f26fe1aad",
   "metadata": {},
   "outputs": [],
   "source": [
    "def preprocess_text(text):\n",
    "    words = nltk.word_tokenize(text)\n",
    "    lemmatized_words = [lemmatizer.lemmatize(word) for word in words]\n",
    "    stemmed_words = [stemmer.stem(word) for word in words]\n",
    "    \n",
    "    lemmatized_text = ' '.join(lemmatized_words)\n",
    "    stemmed_text = ' '.join(stemmed_words)\n",
    "    \n",
    "    return lemmatized_text, stemmed_text"
   ]
  },
  {
   "cell_type": "code",
   "execution_count": 6,
   "id": "b114f59a-9cdf-43e9-9247-1078ce9f21d9",
   "metadata": {},
   "outputs": [],
   "source": [
    "def main(audio_file_path):\n",
    "    # Transcribe the audio file to text\n",
    "    transcription = transcribe_audio(audio_file_path)\n",
    "    print(f\"Transcription: {transcription}\")\n",
    "    \n",
    "    # Preprocess the transcribed text\n",
    "    lemmatized_text, stemmed_text = preprocess_text(transcription)\n",
    "    \n",
    "    print(f\"Lemmatized Text: {lemmatized_text}\")\n",
    "    print(f\"Stemmed Text: {stemmed_text}\")"
   ]
  },
  {
   "cell_type": "code",
   "execution_count": 7,
   "id": "7f48855d-c0c7-4e1a-8c57-eb67e8cb1b3b",
   "metadata": {},
   "outputs": [
    {
     "name": "stdout",
     "output_type": "stream",
     "text": [
      "Transcription: rabbit was playing in a garden\n",
      "Lemmatized Text: rabbit wa playing in a garden\n",
      "Stemmed Text: rabbit wa play in a garden\n"
     ]
    }
   ],
   "source": [
    "audio_file_path = \"C:/Users/HP/OneDrive/Desktop/Infosys Springboard/test_audio_converted.wav\" \n",
    "main(audio_file_path)"
   ]
  },
  {
   "cell_type": "code",
   "execution_count": null,
   "id": "93dd0889-7d98-4d3c-ad4c-d2ca4d9e19f1",
   "metadata": {},
   "outputs": [],
   "source": []
  }
 ],
 "metadata": {
  "kernelspec": {
   "display_name": "Python 3 (ipykernel)",
   "language": "python",
   "name": "python3"
  },
  "language_info": {
   "codemirror_mode": {
    "name": "ipython",
    "version": 3
   },
   "file_extension": ".py",
   "mimetype": "text/x-python",
   "name": "python",
   "nbconvert_exporter": "python",
   "pygments_lexer": "ipython3",
   "version": "3.12.5"
  }
 },
 "nbformat": 4,
 "nbformat_minor": 5
}
